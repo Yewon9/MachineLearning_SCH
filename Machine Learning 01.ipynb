{
 "cells": [
  {
   "cell_type": "markdown",
   "id": "b6ba900a",
   "metadata": {},
   "source": [
    "# Chapter 01 머신러닝의 기초"
   ]
  },
  {
   "cell_type": "markdown",
   "id": "83938b0d",
   "metadata": {},
   "source": [
    "04 머신러닝 환경 구축하기"
   ]
  },
  {
   "cell_type": "markdown",
   "id": "11a9c188",
   "metadata": {},
   "source": [
    "4 주피터 노트북 사용하기"
   ]
  },
  {
   "cell_type": "markdown",
   "id": "a88d8ac5",
   "metadata": {},
   "source": [
    "4.2 주피터 노트북에서 코드 실행하기"
   ]
  },
  {
   "cell_type": "code",
   "execution_count": 1,
   "id": "c39da27f",
   "metadata": {},
   "outputs": [
    {
     "data": {
      "text/plain": [
       "500"
      ]
     },
     "execution_count": 1,
     "metadata": {},
     "output_type": "execute_result"
    }
   ],
   "source": [
    "a = 5\n",
    "b = 100\n",
    "a * b"
   ]
  }
 ],
 "metadata": {
  "kernelspec": {
   "display_name": "Python 3 (ipykernel)",
   "language": "python",
   "name": "python3"
  },
  "language_info": {
   "codemirror_mode": {
    "name": "ipython",
    "version": 3
   },
   "file_extension": ".py",
   "mimetype": "text/x-python",
   "name": "python",
   "nbconvert_exporter": "python",
   "pygments_lexer": "ipython3",
   "version": "3.9.7"
  }
 },
 "nbformat": 4,
 "nbformat_minor": 5
}
